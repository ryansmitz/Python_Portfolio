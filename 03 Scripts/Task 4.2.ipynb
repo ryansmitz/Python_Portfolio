{
 "cells": [
  {
   "cell_type": "markdown",
   "id": "3c862ea9",
   "metadata": {},
   "source": [
    "#4 Import libraries"
   ]
  },
  {
   "cell_type": "code",
   "execution_count": 4,
   "id": "b42e2351",
   "metadata": {},
   "outputs": [],
   "source": [
    "#5 import libraries\n",
    "import pandas as pd\n",
    "import numpy as np\n",
    "import os"
   ]
  },
  {
   "cell_type": "markdown",
   "id": "36b5e5b5",
   "metadata": {},
   "source": [
    "#6 Python Data Types"
   ]
  },
  {
   "cell_type": "code",
   "execution_count": 6,
   "id": "37650890",
   "metadata": {},
   "outputs": [],
   "source": [
    "#7 three different ways to reach 100 below by adding or subtrating numberic variables\n",
    "x = 50"
   ]
  },
  {
   "cell_type": "code",
   "execution_count": 7,
   "id": "b28b25fc",
   "metadata": {},
   "outputs": [],
   "source": [
    "b = 50"
   ]
  },
  {
   "cell_type": "code",
   "execution_count": 8,
   "id": "f2b6df90",
   "metadata": {},
   "outputs": [
    {
     "data": {
      "text/plain": [
       "100"
      ]
     },
     "execution_count": 8,
     "metadata": {},
     "output_type": "execute_result"
    }
   ],
   "source": [
    "x + b "
   ]
  },
  {
   "cell_type": "code",
   "execution_count": 9,
   "id": "4dbad289",
   "metadata": {},
   "outputs": [],
   "source": [
    "z = 115"
   ]
  },
  {
   "cell_type": "code",
   "execution_count": 10,
   "id": "e5dabb90",
   "metadata": {},
   "outputs": [],
   "source": [
    "h = 15 "
   ]
  },
  {
   "cell_type": "code",
   "execution_count": 11,
   "id": "07902704",
   "metadata": {},
   "outputs": [
    {
     "data": {
      "text/plain": [
       "100"
      ]
     },
     "execution_count": 11,
     "metadata": {},
     "output_type": "execute_result"
    }
   ],
   "source": [
    "z - h"
   ]
  },
  {
   "cell_type": "code",
   "execution_count": 12,
   "id": "706e30d3",
   "metadata": {},
   "outputs": [],
   "source": [
    "q = 75"
   ]
  },
  {
   "cell_type": "code",
   "execution_count": 13,
   "id": "6cc1ccd4",
   "metadata": {},
   "outputs": [],
   "source": [
    "d = 25"
   ]
  },
  {
   "cell_type": "code",
   "execution_count": 14,
   "id": "8d49752e",
   "metadata": {},
   "outputs": [
    {
     "data": {
      "text/plain": [
       "100"
      ]
     },
     "execution_count": 14,
     "metadata": {},
     "output_type": "execute_result"
    }
   ],
   "source": [
    "q + d"
   ]
  },
  {
   "cell_type": "code",
   "execution_count": 15,
   "id": "cd7f6564",
   "metadata": {},
   "outputs": [],
   "source": [
    "#8 below 2 floating-point variables divided by each other\n",
    "y = 3.14"
   ]
  },
  {
   "cell_type": "code",
   "execution_count": 16,
   "id": "54690423",
   "metadata": {},
   "outputs": [],
   "source": [
    "t = 80.99"
   ]
  },
  {
   "cell_type": "code",
   "execution_count": 17,
   "id": "2641c9c2",
   "metadata": {},
   "outputs": [
    {
     "data": {
      "text/plain": [
       "0.038770218545499446"
      ]
     },
     "execution_count": 17,
     "metadata": {},
     "output_type": "execute_result"
    }
   ],
   "source": [
    "y/t"
   ]
  },
  {
   "cell_type": "code",
   "execution_count": 29,
   "id": "7f20e21c",
   "metadata": {},
   "outputs": [],
   "source": [
    "#9 construct a short word made of separate strings\n",
    "o = 'c'"
   ]
  },
  {
   "cell_type": "code",
   "execution_count": 30,
   "id": "41ca6565",
   "metadata": {},
   "outputs": [],
   "source": [
    "z = 'a'"
   ]
  },
  {
   "cell_type": "code",
   "execution_count": 31,
   "id": "60a56785",
   "metadata": {},
   "outputs": [],
   "source": [
    "t = 't'"
   ]
  },
  {
   "cell_type": "code",
   "execution_count": 32,
   "id": "ea9a180c",
   "metadata": {},
   "outputs": [
    {
     "data": {
      "text/plain": [
       "'cat'"
      ]
     },
     "execution_count": 32,
     "metadata": {},
     "output_type": "execute_result"
    }
   ],
   "source": [
    "o + z + t"
   ]
  },
  {
   "cell_type": "code",
   "execution_count": 18,
   "id": "942fdef1",
   "metadata": {},
   "outputs": [],
   "source": [
    "#10 construct 2 short sentences made of separate strings\n",
    "a = 'We '"
   ]
  },
  {
   "cell_type": "code",
   "execution_count": 19,
   "id": "1d0673f6",
   "metadata": {},
   "outputs": [],
   "source": [
    "c = 'Hold '"
   ]
  },
  {
   "cell_type": "code",
   "execution_count": 20,
   "id": "26a75c43",
   "metadata": {},
   "outputs": [],
   "source": [
    "e = 'These '"
   ]
  },
  {
   "cell_type": "code",
   "execution_count": 21,
   "id": "11201ddb",
   "metadata": {},
   "outputs": [],
   "source": [
    "f = 'Truths '"
   ]
  },
  {
   "cell_type": "code",
   "execution_count": 22,
   "id": "a0626fe0",
   "metadata": {},
   "outputs": [],
   "source": [
    "g = 'To '"
   ]
  },
  {
   "cell_type": "code",
   "execution_count": 23,
   "id": "49808327",
   "metadata": {},
   "outputs": [],
   "source": [
    "h = 'Be '"
   ]
  },
  {
   "cell_type": "code",
   "execution_count": 24,
   "id": "851119d3",
   "metadata": {},
   "outputs": [],
   "source": [
    "i = 'Self'"
   ]
  },
  {
   "cell_type": "code",
   "execution_count": 25,
   "id": "4803e96c",
   "metadata": {},
   "outputs": [],
   "source": [
    "j = '-'"
   ]
  },
  {
   "cell_type": "code",
   "execution_count": 26,
   "id": "c64ad659",
   "metadata": {},
   "outputs": [],
   "source": [
    "k = 'Evident'"
   ]
  },
  {
   "cell_type": "code",
   "execution_count": 40,
   "id": "d9e55892",
   "metadata": {},
   "outputs": [
    {
     "data": {
      "text/plain": [
       "'We Hold These Truths To Be Self-Evident'"
      ]
     },
     "execution_count": 40,
     "metadata": {},
     "output_type": "execute_result"
    }
   ],
   "source": [
    "a + ' ' + c + ' ' + e + ' ' + f + ' ' + g + ' ' + h + ' ' + i + j + k"
   ]
  },
  {
   "cell_type": "code",
   "execution_count": 33,
   "id": "f89a4e45",
   "metadata": {},
   "outputs": [],
   "source": [
    "l = \"that\""
   ]
  },
  {
   "cell_type": "code",
   "execution_count": 34,
   "id": "7d706cf1",
   "metadata": {},
   "outputs": [],
   "source": [
    "m = 'all'"
   ]
  },
  {
   "cell_type": "code",
   "execution_count": 35,
   "id": "eec35a7b",
   "metadata": {},
   "outputs": [],
   "source": [
    "n = 'men'"
   ]
  },
  {
   "cell_type": "code",
   "execution_count": 36,
   "id": "0f48a96b",
   "metadata": {},
   "outputs": [],
   "source": [
    "q = 'are'"
   ]
  },
  {
   "cell_type": "code",
   "execution_count": 37,
   "id": "9215e42d",
   "metadata": {},
   "outputs": [],
   "source": [
    "r = 'created'"
   ]
  },
  {
   "cell_type": "code",
   "execution_count": 38,
   "id": "d8012371",
   "metadata": {},
   "outputs": [],
   "source": [
    "s = 'equal'"
   ]
  },
  {
   "cell_type": "code",
   "execution_count": 39,
   "id": "a6cdbb4d",
   "metadata": {},
   "outputs": [
    {
     "data": {
      "text/plain": [
       "'that all men are created equal'"
      ]
     },
     "execution_count": 39,
     "metadata": {},
     "output_type": "execute_result"
    }
   ],
   "source": [
    "l + ' ' + m + ' ' + n + ' ' + q + ' ' + r + ' ' + s"
   ]
  },
  {
   "cell_type": "markdown",
   "id": "443438de",
   "metadata": {},
   "source": []
  }
 ],
 "metadata": {
  "kernelspec": {
   "display_name": "Python 3 (ipykernel)",
   "language": "python",
   "name": "python3"
  },
  "language_info": {
   "codemirror_mode": {
    "name": "ipython",
    "version": 3
   },
   "file_extension": ".py",
   "mimetype": "text/x-python",
   "name": "python",
   "nbconvert_exporter": "python",
   "pygments_lexer": "ipython3",
   "version": "3.11.5"
  }
 },
 "nbformat": 4,
 "nbformat_minor": 5
}
